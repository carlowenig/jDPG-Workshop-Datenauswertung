{
 "cells": [
  {
   "attachments": {},
   "cell_type": "markdown",
   "metadata": {},
   "source": [
    "<div style=\"width: 100%; display: flex; justify-content: space-between; align-items: center;\">\n",
    "    <h1 style=\"color: black;\">\n",
    "        Workshop:<br>\n",
    "        <b>Datenauswertung mit Python<br>und Jupyter Notebooks</b>\n",
    "    </h1>\n",
    "    <div style=\"width: 7rem; padding-right: 2rem; margin: .5rem;\">\n",
    "        <img src=\"https://www.dpg-physik.de/veranstaltungen/2022/wissenschaftskommunikation-und-fachdidaktik/@@images/logo/thumb\" style=\"width: 100%;\"> \n",
    "        <div style=\"width: 100%; margin-top: .5rem; font-size: 1.2rem; font-weight: bold; color: #00519D; text-align: center;\">\n",
    "            RG Bonn\n",
    "        </div>\n",
    "    </div>\n",
    "</div>\n",
    "\n",
    "---"
   ]
  },
  {
   "attachments": {},
   "cell_type": "markdown",
   "metadata": {},
   "source": [
    "## Einführung\n",
    "\n",
    "Ziel dieses Workshops ist es, ...\n",
    "\n",
    "Der Workshop gliedert sich in folgende Teilbereiche:\n",
    "\n",
    "- **Teil 1:** Einlesen von Daten\n",
    "- **Teil 2:** Zugriff auf DataFrames und Arrays\n",
    "- **Teil 3:** Rechnen mit Arrays\n",
    "- **Teil 4:** Visualisierung der Daten\n",
    "- **Teil 5:** Anpassung von Modellen an Daten\n",
    "- **Teil 6:** Datenexport in LaTeX-Tabellen\n",
    "\n",
    "Als roter Faden dient folgendes Beispiel:\n",
    "\n",
    "Ein Detektor für $\\gamma$-Strahlung ordnet jedes detektierte $\\gamma$-Teilchen abhängig von seiner Energie einem von 8192 Kanälen zu. Aus der Anzahl der detektierten Teilchen pro Kanal kann ein Spektrum erstellt werden. Welcher Kanal zu welcher Energie gehört ist jedoch *nicht* bekannt. Um diese Abhängigkeit zu bestimmen, muss somit eine **Energiekalibration** anhand einer Probe mit bereits bekannten Zerfallsenergien durchgeführt werden. In unserem Fall wurde eine Europium-152-Quelle vermessen. Die Messdaten sind in der Datei `data/Eu152.csv` gespeichert, wobei die erste Spalte die Kanalnummer und die zweite Spalte die Teilchenzahl enthält."
   ]
  },
  {
   "attachments": {},
   "cell_type": "markdown",
   "metadata": {},
   "source": [
    "## Teil 1: Einlesen von Daten\n",
    "\n",
    "Das erste, was bei einer typischen Datenauswertung getan wird, ist das Einlesen der Messdaten. Dazu bietet sich das Paket [pandas](https://pandas.pydata.org/) an, welches in der Regel mit dem Kürzel `pd` importiert wird. In diesem Paket arbeitet man mit sogenannten `DataFrame`-Objekten, welche wie Tabellen aufgebaut sind, das heißt jedem enthaltenen Wert kann eine Zeile und eine Spalte zugeordnet werden. Zum Einlesen wird die Funktion `read_csv` verwendet, welche als Argument den Pfad der Datei erhält. Die erste Zeile der Datei wird automatisch als Spaltenüberschrift interpretiert. Da die Spalten in unserer Datei nicht durch Kommata, sondern durch Tabs getrennt sind, muss zudem das Argument `sep='\\t'` angegeben werden."
   ]
  },
  {
   "cell_type": "code",
   "execution_count": 1,
   "metadata": {},
   "outputs": [
    {
     "data": {
      "text/html": [
       "<div>\n",
       "<style scoped>\n",
       "    .dataframe tbody tr th:only-of-type {\n",
       "        vertical-align: middle;\n",
       "    }\n",
       "\n",
       "    .dataframe tbody tr th {\n",
       "        vertical-align: top;\n",
       "    }\n",
       "\n",
       "    .dataframe thead th {\n",
       "        text-align: right;\n",
       "    }\n",
       "</style>\n",
       "<table border=\"1\" class=\"dataframe\">\n",
       "  <thead>\n",
       "    <tr style=\"text-align: right;\">\n",
       "      <th></th>\n",
       "      <th>K</th>\n",
       "      <th>N</th>\n",
       "    </tr>\n",
       "  </thead>\n",
       "  <tbody>\n",
       "    <tr>\n",
       "      <th>0</th>\n",
       "      <td>0</td>\n",
       "      <td>0</td>\n",
       "    </tr>\n",
       "    <tr>\n",
       "      <th>1</th>\n",
       "      <td>1</td>\n",
       "      <td>0</td>\n",
       "    </tr>\n",
       "    <tr>\n",
       "      <th>2</th>\n",
       "      <td>2</td>\n",
       "      <td>0</td>\n",
       "    </tr>\n",
       "    <tr>\n",
       "      <th>3</th>\n",
       "      <td>3</td>\n",
       "      <td>0</td>\n",
       "    </tr>\n",
       "    <tr>\n",
       "      <th>4</th>\n",
       "      <td>4</td>\n",
       "      <td>0</td>\n",
       "    </tr>\n",
       "    <tr>\n",
       "      <th>...</th>\n",
       "      <td>...</td>\n",
       "      <td>...</td>\n",
       "    </tr>\n",
       "    <tr>\n",
       "      <th>8187</th>\n",
       "      <td>8187</td>\n",
       "      <td>0</td>\n",
       "    </tr>\n",
       "    <tr>\n",
       "      <th>8188</th>\n",
       "      <td>8188</td>\n",
       "      <td>0</td>\n",
       "    </tr>\n",
       "    <tr>\n",
       "      <th>8189</th>\n",
       "      <td>8189</td>\n",
       "      <td>0</td>\n",
       "    </tr>\n",
       "    <tr>\n",
       "      <th>8190</th>\n",
       "      <td>8190</td>\n",
       "      <td>0</td>\n",
       "    </tr>\n",
       "    <tr>\n",
       "      <th>8191</th>\n",
       "      <td>8191</td>\n",
       "      <td>0</td>\n",
       "    </tr>\n",
       "  </tbody>\n",
       "</table>\n",
       "<p>8192 rows × 2 columns</p>\n",
       "</div>"
      ],
      "text/plain": [
       "         K  N\n",
       "0        0  0\n",
       "1        1  0\n",
       "2        2  0\n",
       "3        3  0\n",
       "4        4  0\n",
       "...    ... ..\n",
       "8187  8187  0\n",
       "8188  8188  0\n",
       "8189  8189  0\n",
       "8190  8190  0\n",
       "8191  8191  0\n",
       "\n",
       "[8192 rows x 2 columns]"
      ]
     },
     "execution_count": 1,
     "metadata": {},
     "output_type": "execute_result"
    }
   ],
   "source": [
    "import pandas as pd\n",
    "\n",
    "# Daten einlesen\n",
    "data = pd.read_csv('data/Eu152.csv', sep='\\t')\n",
    "\n",
    "# Daten anzeigen\n",
    "data"
   ]
  },
  {
   "attachments": {},
   "cell_type": "markdown",
   "metadata": {},
   "source": [
    "Wie man erkennen kann, wurden die Daten erfolgreich eingelesen und sind nun in der Variable `data` als `DataFrame` abgelegt.\n",
    "\n",
    "> TODO: Hier vielleicht noch mehr Optionen von `read_csv` erklären, z.B. `header`, `delimiter`, `names` oder `index_col`?"
   ]
  },
  {
   "attachments": {},
   "cell_type": "markdown",
   "metadata": {},
   "source": [
    "Zunächst schauen wir uns die Daten einmal an. Dazu könne wir zunächst einmal die `plot`-Methode des DataFrames verwenden. Diese trägt die alle Nicht-Index-Spalten (hier nur N) gegen die Index-Spalte (hier K) auf. Zur Darstellung selbst kommen wir später noch. "
   ]
  },
  {
   "cell_type": "code",
   "execution_count": 2,
   "metadata": {},
   "outputs": [
    {
     "data": {
      "image/png": "[encoded data removed]",
      "text/plain": [
       "<Figure size 1200x500 with 1 Axes>"
      ]
     },
     "metadata": {},
     "output_type": "display_data"
    }
   ],
   "source": [
    "data.plot(\"K\", \"N\", figsize=(12, 5)); # type: ignore"
   ]
  },
  {
   "attachments": {},
   "cell_type": "markdown",
   "metadata": {},
   "source": [
    "Wir erkennen hohe Peaks im Bereich $K < 2100$ und ein paar flache Peaks bei $K > 4000$. Zur Einfachheit werden hier auschließlich die hohen Peaks ausgewertet. Zudem ist zu erkennen, dass es für sehr kleine Kanalnummern ($K < 140$) keine Daten aufgenommen wurden. Diese Werte können bei der Auswertung ebenfalls weggelassen werden. Wie filtern wir nun unsere Daten, sodass nur noch die gewünschten Datenpunkte enthalten sind?"
   ]
  },
  {
   "attachments": {},
   "cell_type": "markdown",
   "metadata": {},
   "source": [
    "## Teil 2: Umgang mit DataFrames und Arrays\n",
    "\n",
    "### DataFrames\n",
    "\n",
    "Wie können wir nun auf die Daten im eingelesenen DataFrame zugreifen? Meist möchten wir eine bestimmte Spalte aus der Tabelle weiterverarbeiten. Um beispielsweise auf die Teilchenzahlen $N$ als Numpy-Array zuzugreifen können wir schreiben:"
   ]
  },
  {
   "cell_type": "code",
   "execution_count": 3,
   "metadata": {},
   "outputs": [
    {
     "data": {
      "text/plain": [
       "array([0, 0, 0, ..., 0, 0, 0], dtype=int64)"
      ]
     },
     "execution_count": 3,
     "metadata": {},
     "output_type": "execute_result"
    }
   ],
   "source": [
    "data['N'].to_numpy()"
   ]
  },
  {
   "attachments": {},
   "cell_type": "markdown",
   "metadata": {},
   "source": [
    "Hier passiert folgendes: `data['N']` gibt die Spalte mit Name \"N\" als `Series`-Objekt zurück. Da es in der Regel einfacher ist, stets einheitlich mit Numpy-Arrays zu arbeiten, wird die `Series` mit der `to_numpy()`-Methode in ein solches umgewandelt. Um das gesamte DataFrame in ein zweidimensionales Numpy-Array umzuwandeln, schreibt man:"
   ]
  },
  {
   "cell_type": "code",
   "execution_count": 4,
   "metadata": {},
   "outputs": [
    {
     "data": {
      "text/plain": [
       "array([[   0,    0],\n",
       "       [   1,    0],\n",
       "       [   2,    0],\n",
       "       ...,\n",
       "       [8189,    0],\n",
       "       [8190,    0],\n",
       "       [8191,    0]], dtype=int64)"
      ]
     },
     "execution_count": 4,
     "metadata": {},
     "output_type": "execute_result"
    }
   ],
   "source": [
    "data.to_numpy()"
   ]
  },
  {
   "attachments": {},
   "cell_type": "markdown",
   "metadata": {},
   "source": [
    "Transponiert man nun dieses Array, so entsprechen die Zeilen den Spalten und umgekehrt. Dies kann dazu genutzt werden, um die Spalten in Variablen zu \"entpacken\":"
   ]
  },
  {
   "cell_type": "code",
   "execution_count": 5,
   "metadata": {},
   "outputs": [],
   "source": [
    "K, N = data.to_numpy().T"
   ]
  },
  {
   "attachments": {},
   "cell_type": "markdown",
   "metadata": {},
   "source": [
    "### Zugriff auf Array-Elemente"
   ]
  },
  {
   "attachments": {},
   "cell_type": "markdown",
   "metadata": {},
   "source": [
    "Auf einzelne Werte eines Arrays kann man wie folgt zugreifen:"
   ]
  },
  {
   "cell_type": "code",
   "execution_count": 6,
   "metadata": {},
   "outputs": [
    {
     "data": {
      "text/plain": [
       "432"
      ]
     },
     "execution_count": 6,
     "metadata": {},
     "output_type": "execute_result"
    }
   ],
   "source": [
    "# Element mit Index 420\n",
    "N[420]"
   ]
  },
  {
   "cell_type": "code",
   "execution_count": 7,
   "metadata": {},
   "outputs": [
    {
     "data": {
      "text/plain": [
       "0"
      ]
     },
     "execution_count": 7,
     "metadata": {},
     "output_type": "execute_result"
    }
   ],
   "source": [
    "# Erstes Element\n",
    "N[0]"
   ]
  },
  {
   "cell_type": "code",
   "execution_count": 8,
   "metadata": {},
   "outputs": [
    {
     "data": {
      "text/plain": [
       "0"
      ]
     },
     "execution_count": 8,
     "metadata": {},
     "output_type": "execute_result"
    }
   ],
   "source": [
    "# Letztes Element\n",
    "N[-1]"
   ]
  },
  {
   "cell_type": "code",
   "execution_count": 9,
   "metadata": {},
   "outputs": [
    {
     "data": {
      "text/plain": [
       "0"
      ]
     },
     "execution_count": 9,
     "metadata": {},
     "output_type": "execute_result"
    }
   ],
   "source": [
    "# Drittletztes Element\n",
    "N[-3]"
   ]
  },
  {
   "attachments": {},
   "cell_type": "markdown",
   "metadata": {},
   "source": [
    "### Zugriff auf Teilbereiche eines Arrays"
   ]
  },
  {
   "attachments": {},
   "cell_type": "markdown",
   "metadata": {},
   "source": [
    "Auf Teil-Arrays kann mit dem sogenanntem \"Slicing\" zugegriffen werden:"
   ]
  },
  {
   "cell_type": "code",
   "execution_count": 10,
   "metadata": {},
   "outputs": [
    {
     "data": {
      "text/plain": [
       "array([573, 580, 552, 598, 573, 611, 505, 600, 556, 604], dtype=int64)"
      ]
     },
     "execution_count": 10,
     "metadata": {},
     "output_type": "execute_result"
    }
   ],
   "source": [
    "# Element 500 bis (aber ohne) Element 510\n",
    "N[500:510]"
   ]
  },
  {
   "cell_type": "code",
   "execution_count": 11,
   "metadata": {},
   "outputs": [
    {
     "data": {
      "text/plain": [
       "array([0, 0, 0, 0, 0, 0, 0, 0, 0, 0], dtype=int64)"
      ]
     },
     "execution_count": 11,
     "metadata": {},
     "output_type": "execute_result"
    }
   ],
   "source": [
    "# Erstes Element bis (aber ohne) Element 10\n",
    "N[:10]"
   ]
  },
  {
   "cell_type": "code",
   "execution_count": 12,
   "metadata": {},
   "outputs": [
    {
     "data": {
      "text/plain": [
       "array([0, 0, 0, 0, 0, 0, 0, 0, 0, 0], dtype=int64)"
      ]
     },
     "execution_count": 12,
     "metadata": {},
     "output_type": "execute_result"
    }
   ],
   "source": [
    "# Zehntletztes bis (inklusive) letztes Element\n",
    "N[-10:]"
   ]
  },
  {
   "cell_type": "code",
   "execution_count": 13,
   "metadata": {},
   "outputs": [
    {
     "data": {
      "text/plain": [
       "array([0, 0, 0, ..., 0, 0, 0], dtype=int64)"
      ]
     },
     "execution_count": 13,
     "metadata": {},
     "output_type": "execute_result"
    }
   ],
   "source": [
    "# Jedes zweite Element\n",
    "N[::2]"
   ]
  },
  {
   "attachments": {},
   "cell_type": "markdown",
   "metadata": {},
   "source": [
    "### Zugriff auf Elemente, die bestimmte Bedingungen erfüllen"
   ]
  },
  {
   "cell_type": "code",
   "execution_count": 14,
   "metadata": {},
   "outputs": [
    {
     "data": {
      "text/plain": [
       "array([3707, 3805, 3797, 3757, 3871, 3782, 3869, 3727, 3716, 3716],\n",
       "      dtype=int64)"
      ]
     },
     "execution_count": 14,
     "metadata": {},
     "output_type": "execute_result"
    }
   ],
   "source": [
    "# Alle Elemente, die größer als 3000 sind\n",
    "N[N > 3700]"
   ]
  },
  {
   "cell_type": "code",
   "execution_count": 15,
   "metadata": {},
   "outputs": [
    {
     "data": {
      "text/plain": [
       "array([2761, 2811, 2923, 2947, 2943, 2972, 2822], dtype=int64)"
      ]
     },
     "execution_count": 15,
     "metadata": {},
     "output_type": "execute_result"
    }
   ],
   "source": [
    "# Alle Elemente, die zwischen 2700 und 3000 liegen\n",
    "N[(N > 2700) & (N < 3000)]"
   ]
  },
  {
   "attachments": {},
   "cell_type": "markdown",
   "metadata": {},
   "source": [
    "> **Achtung:** Hier kann leider nicht die Notation `2000 < N < 3000` verwendet werden, wie es bei einzelnen Werten möglich ist. TODO: Erklärung? Oder zu tiefgehend?"
   ]
  },
  {
   "cell_type": "code",
   "execution_count": 16,
   "metadata": {},
   "outputs": [
    {
     "data": {
      "text/plain": [
       "array([234, 235, 236, 237, 238, 239, 240, 241, 242, 243], dtype=int64)"
      ]
     },
     "execution_count": 16,
     "metadata": {},
     "output_type": "execute_result"
    }
   ],
   "source": [
    "# Alle Kanalnummern, bei denen die Teilchenzahl größer als 3700 ist\n",
    "K[N > 3700]"
   ]
  },
  {
   "attachments": {},
   "cell_type": "markdown",
   "metadata": {},
   "source": [
    "Auch DataFrames können auf diese Weise gefiltert werden:"
   ]
  },
  {
   "cell_type": "code",
   "execution_count": 17,
   "metadata": {},
   "outputs": [
    {
     "data": {
      "text/html": [
       "<div>\n",
       "<style scoped>\n",
       "    .dataframe tbody tr th:only-of-type {\n",
       "        vertical-align: middle;\n",
       "    }\n",
       "\n",
       "    .dataframe tbody tr th {\n",
       "        vertical-align: top;\n",
       "    }\n",
       "\n",
       "    .dataframe thead th {\n",
       "        text-align: right;\n",
       "    }\n",
       "</style>\n",
       "<table border=\"1\" class=\"dataframe\">\n",
       "  <thead>\n",
       "    <tr style=\"text-align: right;\">\n",
       "      <th></th>\n",
       "      <th>K</th>\n",
       "      <th>N</th>\n",
       "    </tr>\n",
       "  </thead>\n",
       "  <tbody>\n",
       "    <tr>\n",
       "      <th>234</th>\n",
       "      <td>234</td>\n",
       "      <td>3707</td>\n",
       "    </tr>\n",
       "    <tr>\n",
       "      <th>235</th>\n",
       "      <td>235</td>\n",
       "      <td>3805</td>\n",
       "    </tr>\n",
       "    <tr>\n",
       "      <th>236</th>\n",
       "      <td>236</td>\n",
       "      <td>3797</td>\n",
       "    </tr>\n",
       "    <tr>\n",
       "      <th>237</th>\n",
       "      <td>237</td>\n",
       "      <td>3757</td>\n",
       "    </tr>\n",
       "    <tr>\n",
       "      <th>238</th>\n",
       "      <td>238</td>\n",
       "      <td>3871</td>\n",
       "    </tr>\n",
       "    <tr>\n",
       "      <th>239</th>\n",
       "      <td>239</td>\n",
       "      <td>3782</td>\n",
       "    </tr>\n",
       "    <tr>\n",
       "      <th>240</th>\n",
       "      <td>240</td>\n",
       "      <td>3869</td>\n",
       "    </tr>\n",
       "    <tr>\n",
       "      <th>241</th>\n",
       "      <td>241</td>\n",
       "      <td>3727</td>\n",
       "    </tr>\n",
       "    <tr>\n",
       "      <th>242</th>\n",
       "      <td>242</td>\n",
       "      <td>3716</td>\n",
       "    </tr>\n",
       "    <tr>\n",
       "      <th>243</th>\n",
       "      <td>243</td>\n",
       "      <td>3716</td>\n",
       "    </tr>\n",
       "  </tbody>\n",
       "</table>\n",
       "</div>"
      ],
      "text/plain": [
       "       K     N\n",
       "234  234  3707\n",
       "235  235  3805\n",
       "236  236  3797\n",
       "237  237  3757\n",
       "238  238  3871\n",
       "239  239  3782\n",
       "240  240  3869\n",
       "241  241  3727\n",
       "242  242  3716\n",
       "243  243  3716"
      ]
     },
     "execution_count": 17,
     "metadata": {},
     "output_type": "execute_result"
    }
   ],
   "source": [
    "data[data['N'] > 3700]"
   ]
  },
  {
   "attachments": {},
   "cell_type": "markdown",
   "metadata": {},
   "source": [
    "### Beispiel: Energiekalibration\n",
    "Wie zuvor bereits angesprochen, möchten wir ausschließlich die hohen Peaks des Spektrums bei $K < 2100$ auswerten. Dazu filtern wir unsere Arrays wir folgt:"
   ]
  },
  {
   "cell_type": "code",
   "execution_count": 18,
   "metadata": {},
   "outputs": [],
   "source": [
    "N = N[(K > 140) & (K < 2100)]\n",
    "K = K[(K > 140) & (K < 2100)]"
   ]
  },
  {
   "attachments": {},
   "cell_type": "markdown",
   "metadata": {},
   "source": [
    "> **Vorsicht:** Hier ist es wichtig, dass wir erst `N` und danach `K` filtern. Würden wir erst `K` filtern, so hätte `K` danach eine andere Länge als `N` und könnte nicht mehr als Mask verwendet werden. Alternativ könnte man auch zunächst eine Variable `mask = (K > 140) & (K < 2100)` definieren und dann mit `K[mask]` und `N[mask]` filtern.\n",
    "\n",
    "Alternativ hätten wir auch vor der Erstellung der Array das DataFrame filtern können:"
   ]
  },
  {
   "cell_type": "code",
   "execution_count": 19,
   "metadata": {},
   "outputs": [],
   "source": [
    "data = data[(data['K'] > 140) & (data['K'] < 2100)]"
   ]
  },
  {
   "attachments": {},
   "cell_type": "markdown",
   "metadata": {},
   "source": [
    "### Teil 3: Rechnen mit Arrays\n",
    "Im Modul `numpy` sind viele mathematische Funktionen zum Rechnen mit Arrays enthalten. Am wichtigsten sind wahrscheinlich die arithmetischen Operationen `+`, `-`, `*`, `/`, `**`, welche jeweils elementweise auf das Array angewendet werden. Im folgenden einige Beispiele:"
   ]
  },
  {
   "cell_type": "code",
   "execution_count": 20,
   "metadata": {},
   "outputs": [
    {
     "data": {
      "text/plain": [
       "array([303, 350, 369, ..., 134, 149, 131], dtype=int64)"
      ]
     },
     "execution_count": 20,
     "metadata": {},
     "output_type": "execute_result"
    }
   ],
   "source": [
    "# Addiere 42 auf jedes Element\n",
    "N + 42"
   ]
  },
  {
   "cell_type": "code",
   "execution_count": 21,
   "metadata": {},
   "outputs": [
    {
     "data": {
      "text/plain": [
       "array([522, 616, 654, ..., 184, 214, 178], dtype=int64)"
      ]
     },
     "execution_count": 21,
     "metadata": {},
     "output_type": "execute_result"
    }
   ],
   "source": [
    "# Multipliziere jedes Element mit 2\n",
    "N * 2"
   ]
  },
  {
   "cell_type": "code",
   "execution_count": 22,
   "metadata": {},
   "outputs": [
    {
     "data": {
      "text/plain": [
       "array([ 36801,  43736,  46761, ..., 192924, 224486, 186811], dtype=int64)"
      ]
     },
     "execution_count": 22,
     "metadata": {},
     "output_type": "execute_result"
    }
   ],
   "source": [
    "# Multipliziere jedes Element von N mit dem entsprechenden Element von K\n",
    "N * K"
   ]
  },
  {
   "cell_type": "code",
   "execution_count": 23,
   "metadata": {},
   "outputs": [
    {
     "data": {
      "text/plain": [
       "array([-0.24528121,  0.12360304,  0.27093481, ..., -0.77946607,\n",
       "        0.18478174,  0.86006941])"
      ]
     },
     "execution_count": 23,
     "metadata": {},
     "output_type": "execute_result"
    }
   ],
   "source": [
    "import numpy as np\n",
    "\n",
    "# Wende die Sinus-Funktion auf jedes Element an\n",
    "np.sin(N)"
   ]
  },
  {
   "attachments": {},
   "cell_type": "markdown",
   "metadata": {},
   "source": [
    "TODO: Weitere wichtige Dinge?"
   ]
  },
  {
   "attachments": {},
   "cell_type": "markdown",
   "metadata": {},
   "source": [
    "### Teil 4: Visualisierung von Daten\n",
    "\n",
    "#### Einfache Plots\n",
    "Zur Visualisierung der Daten bietet sich das Paket `matplotlib` an. Dieses wird üblicherweise wie folgt importiert:"
   ]
  },
  {
   "cell_type": "code",
   "execution_count": 24,
   "metadata": {},
   "outputs": [],
   "source": [
    "import matplotlib.pylab as plt"
   ]
  },
  {
   "attachments": {},
   "cell_type": "markdown",
   "metadata": {},
   "source": [
    "In Matplotlib arbeitet man mit folgenden Objekten:\n",
    "\n",
    "- `Figure`: Repräsentiert die gesamte \"Zeichnung\" des Plots\n",
    "- `Axes`: Repräsentiert eine Gruppe von Achsen (typischerweise x- und y-Achse). Ein `Axes`-Objekt kann auch als Graph interpretiert werden.\n",
    "\n",
    "Eine Figure mit einem Graphen kann man mit `plt.subplots()` erstellen. Auf den Graphen kann man dann mit verschiedenen Funktionen zeichnen. Die wichtigste Funktion ist die `plot`-Funktion, welche wie folgt verwendet wird:"
   ]
  },
  {
   "cell_type": "code",
   "execution_count": 25,
   "metadata": {},
   "outputs": [
    {
     "data": {
      "image/png": "[encoded data removed]",
      "text/plain": [
       "<Figure size 640x480 with 1 Axes>"
      ]
     },
     "metadata": {},
     "output_type": "display_data"
    }
   ],
   "source": [
    "fig, ax = plt.subplots()\n",
    "ax.plot(K, N);"
   ]
  },
  {
   "attachments": {},
   "cell_type": "markdown",
   "metadata": {},
   "source": [
    "> **Hinweis:** Wenn bei euch in der Ausgabe etwas wie zum Beispiel `[<matplotlib.lines.Line2D at ...>]` steht, dann liegt das lediglich daran, dass Jupyter-Notebooks stets den Wert der letzten Zeile ausgeben, welches in dem Fall ein `matplotlib`-Objekt ist. Entweder könnt ihr dies ignorieren oder die Ausgabe mit einem Semikolon am Ende der letzten Zeile unterdrücken. "
   ]
  },
  {
   "attachments": {},
   "cell_type": "markdown",
   "metadata": {},
   "source": [
    "Bevor jetzt jemand fragt, auf welcher Achse Äpfel und auf welcher Birnen aufgetragen sind, fügen wir lieber schnell noch Achsenbeschriftungen hinzu:"
   ]
  },
  {
   "cell_type": "code",
   "execution_count": 26,
   "metadata": {},
   "outputs": [
    {
     "data": {
      "image/png": "[encoded data removed]",
      "text/plain": [
       "<Figure size 640x480 with 1 Axes>"
      ]
     },
     "metadata": {},
     "output_type": "display_data"
    }
   ],
   "source": [
    "fig, ax = plt.subplots()\n",
    "ax.plot(K, N)\n",
    "ax.set_xlabel('Kanalnummer')\n",
    "ax.set_ylabel('Teilchenzahl');"
   ]
  },
  {
   "attachments": {},
   "cell_type": "markdown",
   "metadata": {},
   "source": [
    "Gibt man keine weiteren Argumente an, so verbindet die plot-Funktion die Datenpunkte mit Linien.\n",
    "Bei gemessenen Daten ist es meist jedoch sinnvoller, ausschließlich die Punkte einzuzeichnen. Um dies zu erreichen, kann der plot-Funktion ein String als drittes Argument übergeben werden, welches das Punkt- bzw. Linienformat angibt. Die möglichen Formate sind [hier](https://matplotlib.org/stable/api/_as_gen/matplotlib.pyplot.plot.html) im Abschnitt \"Format Strings\" beschrieben.\n",
    "Um schwarze Punkte ohne Verbindungslinien zu plotten, kann das Format `\".k\"` verwendet werden, wobei `.` das Punktformat und `k` die Farbe Schwarz spezifiziert. Da wir hier eine große Menge an Datenpunkten haben, macht es sinn die Größe der Plotpunkte zu verringern. Dies geschieht mit dem Argument `ms` (oder `markersize`)."
   ]
  },
  {
   "cell_type": "code",
   "execution_count": 31,
   "metadata": {},
   "outputs": [
    {
     "data": {
      "image/png": "[encoded data removed]",
      "text/plain": [
       "<Figure size 640x480 with 1 Axes>"
      ]
     },
     "metadata": {},
     "output_type": "display_data"
    }
   ],
   "source": [
    "fig, ax = plt.subplots()\n",
    "ax.plot(K, N, \".k\", ms=2) # <-- kleine schwarze Punkte\n",
    "ax.set_xlabel('Kanalnummer')\n",
    "ax.set_ylabel('Teilchenzahl');"
   ]
  },
  {
   "attachments": {},
   "cell_type": "markdown",
   "metadata": {},
   "source": [
    "#### Plot-Styles\n",
    "Da der Standardstil der Matplotlib-Plots nicht unbedingt ansprechend ist, ist es sinnvoll diesen Stil anzupassen. Dies ist mit der Variable `plt.rcParams` möglich, welches die Konfiguration"
   ]
  },
  {
   "cell_type": "code",
   "execution_count": null,
   "metadata": {},
   "outputs": [],
   "source": []
  },
  {
   "cell_type": "markdown",
   "metadata": {},
   "source": []
  }
 ],
 "metadata": {
  "kernelspec": {
   "display_name": "Python 3",
   "language": "python",
   "name": "python3"
  },
  "language_info": {
   "codemirror_mode": {
    "name": "ipython",
    "version": 3
   },
   "file_extension": ".py",
   "mimetype": "text/x-python",
   "name": "python",
   "nbconvert_exporter": "python",
   "pygments_lexer": "ipython3",
   "version": "3.11.0 (main, Oct 24 2022, 18:26:48) [MSC v.1933 64 bit (AMD64)]"
  },
  "orig_nbformat": 4,
  "vscode": {
   "interpreter": {
    "hash": "60046ffbd83e2c3226aa688c07a90e0b2db2ccbc92f599df08db67c0404662c7"
   }
  }
 },
 "nbformat": 4,
 "nbformat_minor": 2
}
