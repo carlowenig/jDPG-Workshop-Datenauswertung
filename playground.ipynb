{
 "cells": [
  {
   "cell_type": "markdown",
   "metadata": {},
   "source": [
    "# Vorbereitung"
   ]
  },
  {
   "cell_type": "code",
   "execution_count": 31,
   "metadata": {},
   "outputs": [],
   "source": [
    "import matplotlib.pyplot as plt\n",
    "import numpy as np\n",
    "import pandas as pd\n",
    "import scipy.odr as odr\n",
    "import sympy\n",
    "\n",
    "plt.rcParams.update(\n",
    "    {\n",
    "        \"figure.dpi\": 200,\n",
    "        \"figure.figsize\": (7, 4),\n",
    "        \"font.family\": \"serif\",\n",
    "        \"mathtext.fontset\": \"cm\",\n",
    "        \"axes.grid\": True,\n",
    "        \"axes.labelsize\": 12,\n",
    "        \"grid.linewidth\": 0.2,\n",
    "        \"grid.alpha\": 0.5,\n",
    "        \"lines.linewidth\": 0.7,\n",
    "        \"lines.dashed_pattern\": (6, 4),\n",
    "    }\n",
    ")"
   ]
  },
  {
   "cell_type": "markdown",
   "metadata": {},
   "source": [
    "# Daten einlesen\n",
    "\n",
    "- Verschiedene Datensätze: Kommagetrennt, Komma als Dezimalpunkt\n",
    "- Excel Import?"
   ]
  },
  {
   "cell_type": "code",
   "execution_count": 30,
   "metadata": {},
   "outputs": [],
   "source": [
    "data = pd.read_csv(\"test_data.csv\")\n",
    "\n",
    "t, x, x_err = data.T.values"
   ]
  },
  {
   "cell_type": "code",
   "execution_count": 27,
   "metadata": {},
   "outputs": [
    {
     "name": "stderr",
     "output_type": "stream",
     "text": [
      "C:\\Users\\carlo\\AppData\\Local\\Temp\\ipykernel_12856\\4005698766.py:3: UserWarning: Obsolete: uarray() should now be called with two arguments. Code can be automatically updated with python -m uncertainties.1to2 -w ProgramDirectory.\n",
      "  plt.plot(unp.uarray(data.x).n, sin_x.n, \".\")\n"
     ]
    },
    {
     "ename": "ValueError",
     "evalue": "too many values to unpack (expected 2)",
     "output_type": "error",
     "traceback": [
      "\u001b[1;31m---------------------------------------------------------------------------\u001b[0m",
      "\u001b[1;31mValueError\u001b[0m                                Traceback (most recent call last)",
      "Cell \u001b[1;32mIn [27], line 3\u001b[0m\n\u001b[0;32m      1\u001b[0m sin_x \u001b[39m=\u001b[39m unp\u001b[39m.\u001b[39msin(data\u001b[39m.\u001b[39mx)\n\u001b[1;32m----> 3\u001b[0m plt\u001b[39m.\u001b[39mplot(unp\u001b[39m.\u001b[39;49muarray(data\u001b[39m.\u001b[39;49mx)\u001b[39m.\u001b[39mn, sin_x\u001b[39m.\u001b[39mn, \u001b[39m\"\u001b[39m\u001b[39m.\u001b[39m\u001b[39m\"\u001b[39m)\n",
      "File \u001b[1;32mc:\\Users\\carlo\\AppData\\Local\\Programs\\Python\\Python39\\lib\\site-packages\\uncertainties\\unumpy\\core.py:289\u001b[0m, in \u001b[0;36muarray\u001b[1;34m(nominal_values, std_devs)\u001b[0m\n\u001b[0;32m    287\u001b[0m \u001b[39mif\u001b[39;00m std_devs \u001b[39mis\u001b[39;00m \u001b[39mNone\u001b[39;00m:  \u001b[39m# Obsolete, single tuple argument call\u001b[39;00m\n\u001b[0;32m    288\u001b[0m     deprecation(\u001b[39m'\u001b[39m\u001b[39muarray() should now be called with two arguments.\u001b[39m\u001b[39m'\u001b[39m)\n\u001b[1;32m--> 289\u001b[0m     (nominal_values, std_devs) \u001b[39m=\u001b[39m nominal_values\n\u001b[0;32m    291\u001b[0m \u001b[39mreturn\u001b[39;00m (numpy\u001b[39m.\u001b[39mvectorize(\n\u001b[0;32m    292\u001b[0m     \u001b[39m# ! Looking up uncert_core.Variable beforehand through\u001b[39;00m\n\u001b[0;32m    293\u001b[0m     \u001b[39m# '_Variable = uncert_core.Variable' does not result in a\u001b[39;00m\n\u001b[0;32m    294\u001b[0m     \u001b[39m# significant speed up:\u001b[39;00m\n\u001b[0;32m    295\u001b[0m     \u001b[39mlambda\u001b[39;00m v, s: uncert_core\u001b[39m.\u001b[39mVariable(v, s), otypes\u001b[39m=\u001b[39m[\u001b[39mobject\u001b[39m])\n\u001b[0;32m    296\u001b[0m     (nominal_values, std_devs))\n",
      "\u001b[1;31mValueError\u001b[0m: too many values to unpack (expected 2)"
     ]
    }
   ],
   "source": [
    "sin_x = unp.sin(data.x)\n",
    "\n",
    "plt.plot(unp.uarray(data.x).n, sin_x.n, \".\")"
   ]
  },
  {
   "cell_type": "code",
   "execution_count": 32,
   "metadata": {},
   "outputs": [
    {
     "data": {
      "text/html": [
       "<div>\n",
       "<style scoped>\n",
       "    .dataframe tbody tr th:only-of-type {\n",
       "        vertical-align: middle;\n",
       "    }\n",
       "\n",
       "    .dataframe tbody tr th {\n",
       "        vertical-align: top;\n",
       "    }\n",
       "\n",
       "    .dataframe thead th {\n",
       "        text-align: right;\n",
       "    }\n",
       "</style>\n",
       "<table border=\"1\" class=\"dataframe\">\n",
       "  <thead>\n",
       "    <tr style=\"text-align: right;\">\n",
       "      <th></th>\n",
       "      <th>t</th>\n",
       "      <th>x</th>\n",
       "      <th>x_err</th>\n",
       "      <th>x_un</th>\n",
       "    </tr>\n",
       "  </thead>\n",
       "  <tbody>\n",
       "    <tr>\n",
       "      <th>0</th>\n",
       "      <td>0.000000</td>\n",
       "      <td>0.003529</td>\n",
       "      <td>0.127406</td>\n",
       "      <td>0.00+/-0.13</td>\n",
       "    </tr>\n",
       "    <tr>\n",
       "      <th>1</th>\n",
       "      <td>0.010101</td>\n",
       "      <td>0.096066</td>\n",
       "      <td>0.136932</td>\n",
       "      <td>0.10+/-0.14</td>\n",
       "    </tr>\n",
       "    <tr>\n",
       "      <th>2</th>\n",
       "      <td>0.020202</td>\n",
       "      <td>0.139047</td>\n",
       "      <td>0.127071</td>\n",
       "      <td>0.14+/-0.13</td>\n",
       "    </tr>\n",
       "    <tr>\n",
       "      <th>3</th>\n",
       "      <td>0.030303</td>\n",
       "      <td>0.192188</td>\n",
       "      <td>0.101231</td>\n",
       "      <td>0.19+/-0.10</td>\n",
       "    </tr>\n",
       "    <tr>\n",
       "      <th>4</th>\n",
       "      <td>0.040404</td>\n",
       "      <td>0.215363</td>\n",
       "      <td>0.103414</td>\n",
       "      <td>0.22+/-0.10</td>\n",
       "    </tr>\n",
       "    <tr>\n",
       "      <th>...</th>\n",
       "      <td>...</td>\n",
       "      <td>...</td>\n",
       "      <td>...</td>\n",
       "      <td>...</td>\n",
       "    </tr>\n",
       "    <tr>\n",
       "      <th>95</th>\n",
       "      <td>0.959596</td>\n",
       "      <td>-0.988619</td>\n",
       "      <td>0.149841</td>\n",
       "      <td>-0.99+/-0.15</td>\n",
       "    </tr>\n",
       "    <tr>\n",
       "      <th>96</th>\n",
       "      <td>0.969697</td>\n",
       "      <td>-0.948150</td>\n",
       "      <td>0.137767</td>\n",
       "      <td>-0.95+/-0.14</td>\n",
       "    </tr>\n",
       "    <tr>\n",
       "      <th>97</th>\n",
       "      <td>0.979798</td>\n",
       "      <td>-0.963051</td>\n",
       "      <td>0.145300</td>\n",
       "      <td>-0.96+/-0.15</td>\n",
       "    </tr>\n",
       "    <tr>\n",
       "      <th>98</th>\n",
       "      <td>0.989899</td>\n",
       "      <td>-0.970999</td>\n",
       "      <td>0.117125</td>\n",
       "      <td>-0.97+/-0.12</td>\n",
       "    </tr>\n",
       "    <tr>\n",
       "      <th>99</th>\n",
       "      <td>1.000000</td>\n",
       "      <td>-0.909965</td>\n",
       "      <td>0.137765</td>\n",
       "      <td>-0.91+/-0.14</td>\n",
       "    </tr>\n",
       "  </tbody>\n",
       "</table>\n",
       "<p>100 rows × 4 columns</p>\n",
       "</div>"
      ],
      "text/plain": [
       "           t         x     x_err          x_un\n",
       "0   0.000000  0.003529  0.127406   0.00+/-0.13\n",
       "1   0.010101  0.096066  0.136932   0.10+/-0.14\n",
       "2   0.020202  0.139047  0.127071   0.14+/-0.13\n",
       "3   0.030303  0.192188  0.101231   0.19+/-0.10\n",
       "4   0.040404  0.215363  0.103414   0.22+/-0.10\n",
       "..       ...       ...       ...           ...\n",
       "95  0.959596 -0.988619  0.149841  -0.99+/-0.15\n",
       "96  0.969697 -0.948150  0.137767  -0.95+/-0.14\n",
       "97  0.979798 -0.963051  0.145300  -0.96+/-0.15\n",
       "98  0.989899 -0.970999  0.117125  -0.97+/-0.12\n",
       "99  1.000000 -0.909965  0.137765  -0.91+/-0.14\n",
       "\n",
       "[100 rows x 4 columns]"
      ]
     },
     "execution_count": 32,
     "metadata": {},
     "output_type": "execute_result"
    }
   ],
   "source": [
    "x_un = unp.uarray(data.x, data.x_err)\n",
    "\n",
    "data[\"x_un\"] = x_un\n",
    "data"
   ]
  },
  {
   "cell_type": "code",
   "execution_count": 52,
   "metadata": {},
   "outputs": [],
   "source": []
  },
  {
   "cell_type": "markdown",
   "metadata": {},
   "source": [
    "# Daten visualisieren"
   ]
  },
  {
   "cell_type": "code",
   "execution_count": 9,
   "metadata": {},
   "outputs": [
    {
     "data": {
      "text/plain": [
       "Text(0, 0.5, '$x \\\\:\\\\mathrm{[m]}$')"
      ]
     },
     "execution_count": 9,
     "metadata": {},
     "output_type": "execute_result"
    },
    {
     "data": {
      "image/png": "[encoded data removed]",
      "text/plain": [
       "<Figure size 1400x800 with 1 Axes>"
      ]
     },
     "metadata": {
      "needs_background": "light"
     },
     "output_type": "display_data"
    }
   ],
   "source": [
    "plt.errorbar(data.t, data.x, yerr=data.x_err, fmt=\" \", capsize=2)\n",
    "plt.xlabel(\"$t \\\\:\\\\mathrm{[s]}$\")\n",
    "plt.ylabel(\"$x \\\\:\\\\mathrm{[m]}$\")"
   ]
  },
  {
   "cell_type": "markdown",
   "metadata": {},
   "source": [
    "# Modell anpassen"
   ]
  },
  {
   "cell_type": "code",
   "execution_count": null,
   "metadata": {},
   "outputs": [],
   "source": []
  },
  {
   "cell_type": "markdown",
   "metadata": {},
   "source": [
    "# Export"
   ]
  },
  {
   "cell_type": "code",
   "execution_count": 58,
   "metadata": {},
   "outputs": [],
   "source": [
    "data.to_latex(\"export.tex\", formatters={\"x_un\": \"{:.2uL}\".format}, escape=False, index=False)"
   ]
  },
  {
   "cell_type": "markdown",
   "metadata": {},
   "source": []
  }
 ],
 "metadata": {
  "kernelspec": {
   "display_name": "Python 3.9.7 64-bit",
   "language": "python",
   "name": "python3"
  },
  "language_info": {
   "codemirror_mode": {
    "name": "ipython",
    "version": 3
   },
   "file_extension": ".py",
   "mimetype": "text/x-python",
   "name": "python",
   "nbconvert_exporter": "python",
   "pygments_lexer": "ipython3",
   "version": "3.9.7"
  },
  "orig_nbformat": 4,
  "vscode": {
   "interpreter": {
    "hash": "55923a6ed19f62c923f4f9446379b87364bb44c28ea18797870eef05a25fc661"
   }
  }
 },
 "nbformat": 4,
 "nbformat_minor": 2
}
